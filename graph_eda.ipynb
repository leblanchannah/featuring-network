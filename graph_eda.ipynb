{
 "cells": [
  {
   "cell_type": "code",
   "execution_count": null,
   "metadata": {},
   "outputs": [],
   "source": [
    "import os\n",
    "import spotipy\n",
    "from spotipy.oauth2 import SpotifyClientCredentials\n",
    "from dotenv import load_dotenv\n",
    "from typing import List, Dict\n",
    "\n",
    "import plotly.express as px\n",
    "from jupyter_dash import JupyterDash\n",
    "import dash_core_components as dcc\n",
    "import dash_html_components as html\n",
    "from dash.dependencies import Input, Output\n",
    "import dash_cytoscape as cyto\n"
   ]
  },
  {
   "cell_type": "code",
   "execution_count": null,
   "metadata": {},
   "outputs": [],
   "source": [
    "load_dotenv('../featuring_network.env')\n",
    "client = os.getenv('SPOTIFY_CLIENT', 'client')\n",
    "secret = os.getenv('SPOTIFY_SECRET', 'secret')"
   ]
  },
  {
   "cell_type": "code",
   "execution_count": null,
   "metadata": {},
   "outputs": [],
   "source": [
    "sp = spotipy.Spotify(auth_manager=SpotifyClientCredentials(client_id=client, client_secret=secret))"
   ]
  },
  {
   "cell_type": "code",
   "execution_count": null,
   "metadata": {},
   "outputs": [],
   "source": [
    "def get_artist_id(name: str) -> str:\n",
    "    results = sp.search(q='artist:' + name, type='artist')\n",
    "    items = results['artists']['items']\n",
    "    if len(items) > 0:\n",
    "        return items[0]\n",
    "    else:\n",
    "        return None\n",
    "    \n",
    "def get_artist_album_ids(artist_id: str) -> List:\n",
    "    album_names = set()\n",
    "    albums = set()\n",
    "    results = sp.artist_albums(artist_id, album_type='album')\n",
    "    for album in results['items']:\n",
    "        if album['name'] not in album_names:\n",
    "            albums.add(album['id'])\n",
    "            album_names.add(album['name'])\n",
    "    return list(albums)\n",
    "    \n",
    "# issues with edits \n",
    "def get_album_track_ids(album_ids: List, artist_id: str) -> Dict:\n",
    "    songs_checker = set()\n",
    "    songs_w_features = {}\n",
    "    for album in album_ids:\n",
    "        track_ids = sp.album_tracks(album)['items']\n",
    "        for track in track_ids:\n",
    "            features = [x['name'] for x in track['artists'] if x['uri'] != artist_id]\n",
    "            # exclude songs w. no features\n",
    "            if len(features)>1 and track['name'] not in songs_checker:\n",
    "                songs_w_features[track['id']] = {}\n",
    "                songs_w_features[track['id']]['name'] = track['name']\n",
    "                songs_w_features[track['id']]['features'] = features\n",
    "                songs_checker.add(track['name'])\n",
    "\n",
    "    return songs_w_features\n",
    "    \n",
    "def count_appearances(tracks: Dict) -> Dict:\n",
    "    features = {}\n",
    "    for track in tracks:\n",
    "        for artist in tracks[track]['features']:\n",
    "            if artist not in features.keys():\n",
    "                features[artist] = 1\n",
    "            else:   \n",
    "                features[artist] += 1\n",
    "    return features\n",
    "\n",
    "def make_node(entity_id, label):\n",
    "    return {'data': {'id':entity_id, 'label':label}}\n",
    "    \n",
    "def make_edge(root, child, weight):\n",
    "    return {'data': {'source': root, 'target': child, 'weight': weight}}\n",
    "    \n",
    "def generate_graph(feature_counter, artist_name):\n",
    "    graph = [{'data': {'id':artist_name, 'label':artist_name}}]\n",
    "    for feat in feature_counter:\n",
    "        #generate node\n",
    "        graph.append(make_node(feat, feat))\n",
    "        #generate edge\n",
    "        graph.append(make_edge(artist_name, feat, feature_counter[feat]))\n",
    "        \n",
    "    return graph\n",
    "\n",
    "kanye_id = get_artist_id('Kanye West')['uri']\n",
    "kanye_album_ids = get_artist_album_ids(kanye_id)\n",
    "kanye_songs_w_features = get_album_track_ids(kanye_album_ids, kanye_id)\n",
    "graph_data = generate_graph(count_appearances(kanye_songs_w_features), 'Kanye West')"
   ]
  },
  {
   "cell_type": "code",
   "execution_count": null,
   "metadata": {},
   "outputs": [],
   "source": [
    "\n",
    "# Load Data\n",
    "df = px.data.tips()# Build App\n",
    "app = JupyterDash(__name__)\n",
    "app.layout = html.Div([\n",
    "    html.P(\"Dash Cytoscape:\"),\n",
    "    cyto.Cytoscape(\n",
    "        id='cytoscape',\n",
    "        elements=graph_data,\n",
    "        layout={'name': 'random'},\n",
    "        style={'width': '800px', 'height': '500px'}\n",
    "    )\n",
    "])\n",
    "\n",
    "app.run_server(mode='inline')"
   ]
  },
  {
   "cell_type": "code",
   "execution_count": null,
   "metadata": {},
   "outputs": [],
   "source": []
  }
 ],
 "metadata": {
  "kernelspec": {
   "display_name": "Python 3",
   "language": "python",
   "name": "python3"
  },
  "language_info": {
   "codemirror_mode": {
    "name": "ipython",
    "version": 3
   },
   "file_extension": ".py",
   "mimetype": "text/x-python",
   "name": "python",
   "nbconvert_exporter": "python",
   "pygments_lexer": "ipython3",
   "version": "3.8.5"
  }
 },
 "nbformat": 4,
 "nbformat_minor": 4
}
